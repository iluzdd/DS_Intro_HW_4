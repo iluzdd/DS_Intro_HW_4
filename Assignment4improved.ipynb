{
 "cells": [
  {
   "cell_type": "code",
   "execution_count": 1,
   "id": "d5ee7a34",
   "metadata": {},
   "outputs": [],
   "source": [
    "####################################\n",
    "## Assignment 4\n",
    "## Dvir David Iluz\n",
    "## 311447668\n",
    "####################################"
   ]
  },
  {
   "cell_type": "markdown",
   "id": "1b721924",
   "metadata": {},
   "source": [
    "### Import and api"
   ]
  },
  {
   "cell_type": "code",
   "execution_count": 2,
   "id": "0e4d74cc",
   "metadata": {},
   "outputs": [],
   "source": [
    "import json\n",
    "import requests\n",
    "from tabulate import tabulate\n",
    "api = 'fakeapikeyforgooglecloud'"
   ]
  },
  {
   "cell_type": "markdown",
   "id": "4021c8d6",
   "metadata": {},
   "source": [
    "### Get all info inside a dictionary"
   ]
  },
  {
   "cell_type": "code",
   "execution_count": 3,
   "id": "23228514",
   "metadata": {},
   "outputs": [],
   "source": [
    "file = open(\"dests.txt\", \"r\")\n",
    "org = \"Jerusalem\"\n",
    "info_dict = {}\n",
    "info_list = []\n",
    "for line in file:\n",
    "    address = line.strip()\n",
    "    url_geo = 'https://maps.googleapis.com/maps/api/geocode/json?address=%s&key=%s' % (address,api)\n",
    "    url_dis = \"https://maps.googleapis.com/maps/api/distancematrix/json?origins=%s&destinations=%s&departure_time=now&key=%s\" % (org,address,api)\n",
    "    try:\n",
    "        response_geo = requests.get(url_geo)\n",
    "        response_dis = requests.get(url_dis)\n",
    "        if not response_geo.status_code == 200 or not response_dis.status_code == 200:\n",
    "            print('HTTP ERROR', response.status_code)\n",
    "        else:\n",
    "            try:\n",
    "                response_data_geo = response_geo.json()\n",
    "                response_data_dis = response_dis.json()\n",
    "            except:\n",
    "                print(\"response not in valid JSON format\")\n",
    "    except:\n",
    "        print(\"Something went wrong with requests.get\")\n",
    "    location_lat = str(response_data_geo['results'][0]['geometry']['location']['lat'])\n",
    "    location_lng = str(response_data_geo['results'][0]['geometry']['location']['lng'])\n",
    "    distance = response_data_dis['rows'][0]['elements'][0]['distance']['text']\n",
    "    duration = str(round(int(response_data_dis['rows'][0]['elements'][0]['duration']['value'])/60))+' min'\n",
    "    info_dict[address] = [(distance,),(duration,),(location_lat,),(location_lng,)]\n",
    "    info_list.append([address,distance, duration, location_lat, location_lng])"
   ]
  },
  {
   "cell_type": "markdown",
   "id": "8ceb5765",
   "metadata": {},
   "source": [
    "### Print nicely"
   ]
  },
  {
   "cell_type": "code",
   "execution_count": 4,
   "id": "9ebc3157",
   "metadata": {},
   "outputs": [
    {
     "name": "stdout",
     "output_type": "stream",
     "text": [
      "╒═══════════════╤════════════╤════════════╤════════════╤═════════════╕\n",
      "│ Destination   │ Distance   │ Duration   │   Latitude │   Longitude │\n",
      "╞═══════════════╪════════════╪════════════╪════════════╪═════════════╡\n",
      "│ Istanbul      │ 1,809 km   │ 1235 min   │    41.0082 │    28.9784  │\n",
      "├───────────────┼────────────┼────────────┼────────────┼─────────────┤\n",
      "│ Amsterdam     │ 4,528 km   │ 2844 min   │    52.3676 │     4.90414 │\n",
      "├───────────────┼────────────┼────────────┼────────────┼─────────────┤\n",
      "│ Valletta      │ 3,789 km   │ 3030 min   │    35.8989 │    14.5146  │\n",
      "├───────────────┼────────────┼────────────┼────────────┼─────────────┤\n",
      "│ Basel         │ 4,091 km   │ 2615 min   │    47.5596 │     7.58858 │\n",
      "├───────────────┼────────────┼────────────┼────────────┼─────────────┤\n",
      "│ Doha          │ 2,103 km   │ 1311 min   │    25.2854 │    51.531   │\n",
      "╘═══════════════╧════════════╧════════════╧════════════╧═════════════╛\n"
     ]
    }
   ],
   "source": [
    "col_names = [\"Destination\", \"Distance\", \"Duration\", \"Latitude\", \"Longitude\"]\n",
    "print(tabulate(info_list, headers=col_names, tablefmt=\"fancy_grid\"))"
   ]
  },
  {
   "cell_type": "markdown",
   "id": "796ae99e",
   "metadata": {},
   "source": [
    "### Furthest 3 cities from Jerusalem"
   ]
  },
  {
   "cell_type": "code",
   "execution_count": 5,
   "id": "a9ca51c6",
   "metadata": {},
   "outputs": [
    {
     "name": "stdout",
     "output_type": "stream",
     "text": [
      "['Amsterdam', 'Basel', 'Valletta']\n"
     ]
    }
   ],
   "source": [
    "furthest_three = sorted(info_dict, key=info_dict.get, reverse=True)[:3]\n",
    "print(furthest_three)"
   ]
  }
 ],
 "metadata": {
  "kernelspec": {
   "display_name": "Python 3 (ipykernel)",
   "language": "python",
   "name": "python3"
  },
  "language_info": {
   "codemirror_mode": {
    "name": "ipython",
    "version": 3
   },
   "file_extension": ".py",
   "mimetype": "text/x-python",
   "name": "python",
   "nbconvert_exporter": "python",
   "pygments_lexer": "ipython3",
   "version": "3.9.7"
  }
 },
 "nbformat": 4,
 "nbformat_minor": 5
}
